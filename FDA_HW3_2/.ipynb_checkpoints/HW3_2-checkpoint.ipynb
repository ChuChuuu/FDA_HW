{
 "cells": [
  {
   "cell_type": "markdown",
   "metadata": {},
   "source": [
    "# Online Shoppers Purchasing Intention \n",
    "* 一共有18個欄位，所需要預測的目標為最後一欄的revenue，也就是根據前面17個不同的屬性去預測出有消費還是沒有消費，不過這份資料集中為負樣本的比例相當高。"
   ]
  },
  {
   "cell_type": "markdown",
   "metadata": {},
   "source": [
    "## 匯入所需要的套件"
   ]
  },
  {
   "cell_type": "code",
   "execution_count": 1,
   "metadata": {},
   "outputs": [],
   "source": [
    "import numpy as np\n",
    "import pandas as pd\n",
    "import matplotlib.pyplot as plt\n",
    "import seaborn as sns\n",
    "import torch\n",
    "from sklearn.linear_model import LogisticRegression\n",
    "from sklearn.svm import SVC\n",
    "from sklearn.metrics import accuracy_score\n",
    "from sklearn.metrics import confusion_matrix\n",
    "from sklearn.model_selection import train_test_split\n",
    "from sklearn.preprocessing import StandardScaler\n",
    "from sklearn.ensemble import RandomForestClassifier\n",
    "from torch.utils.data import Dataset\n",
    "from torch.utils.data import TensorDataset\n",
    "from torch.utils.data import DataLoader\n",
    "import torch.nn as nn\n",
    "import torch.nn.functional as F\n",
    "from torch.optim import SGD \n",
    "from torch.autograd import Variable\n",
    "SEED = 10"
   ]
  },
  {
   "cell_type": "markdown",
   "metadata": {},
   "source": [
    "## 讀入資料集\n",
    "* 大致上參閱這份資料，一共有18個欄位\n",
    "* 12330筆資料，其中沒有需要填補的缺失值。\n",
    "* Administrative、Informational、ProductRelated和其duration是不同的網頁類型和他們所停留在上面的時間\n",
    "* BounceRates、ExitRates、PageValues這三種比率\n",
    "    * BR是進入網頁後沒有點擊任何東東就離開\n",
    "    * ER是有瀏覽後在某頁離開\n",
    "    * PV是完成交易後平均的網頁價值\n",
    "* SpecialDay離特殊節日的接近度\n",
    "* Month 月份\n",
    "* OperatingSystems是使用哪一種作業系統，不過在這離好像被簡單的使用編號來取代（省的我們還要自己做處理）\n",
    "* Browser使用哪一種瀏覽器\n",
    "* Region消費者的地區\n",
    "* TrafficType 資料中好像沒有說明\n",
    "* VisitorType  是returning or new visitor\n",
    "* Weekend是否為假日？\n",
    "* **Revenue**最後是有購買還是沒有購買"
   ]
  },
  {
   "cell_type": "code",
   "execution_count": 2,
   "metadata": {},
   "outputs": [
    {
     "data": {
      "text/html": [
       "<div>\n",
       "<style scoped>\n",
       "    .dataframe tbody tr th:only-of-type {\n",
       "        vertical-align: middle;\n",
       "    }\n",
       "\n",
       "    .dataframe tbody tr th {\n",
       "        vertical-align: top;\n",
       "    }\n",
       "\n",
       "    .dataframe thead th {\n",
       "        text-align: right;\n",
       "    }\n",
       "</style>\n",
       "<table border=\"1\" class=\"dataframe\">\n",
       "  <thead>\n",
       "    <tr style=\"text-align: right;\">\n",
       "      <th></th>\n",
       "      <th>Administrative</th>\n",
       "      <th>Administrative_Duration</th>\n",
       "      <th>Informational</th>\n",
       "      <th>Informational_Duration</th>\n",
       "      <th>ProductRelated</th>\n",
       "      <th>ProductRelated_Duration</th>\n",
       "      <th>BounceRates</th>\n",
       "      <th>ExitRates</th>\n",
       "      <th>PageValues</th>\n",
       "      <th>SpecialDay</th>\n",
       "      <th>Month</th>\n",
       "      <th>OperatingSystems</th>\n",
       "      <th>Browser</th>\n",
       "      <th>Region</th>\n",
       "      <th>TrafficType</th>\n",
       "      <th>VisitorType</th>\n",
       "      <th>Weekend</th>\n",
       "      <th>Revenue</th>\n",
       "    </tr>\n",
       "  </thead>\n",
       "  <tbody>\n",
       "    <tr>\n",
       "      <th>0</th>\n",
       "      <td>0</td>\n",
       "      <td>0.0</td>\n",
       "      <td>0</td>\n",
       "      <td>0.0</td>\n",
       "      <td>1</td>\n",
       "      <td>0.000000</td>\n",
       "      <td>0.20</td>\n",
       "      <td>0.20</td>\n",
       "      <td>0.0</td>\n",
       "      <td>0.0</td>\n",
       "      <td>Feb</td>\n",
       "      <td>1</td>\n",
       "      <td>1</td>\n",
       "      <td>1</td>\n",
       "      <td>1</td>\n",
       "      <td>Returning_Visitor</td>\n",
       "      <td>False</td>\n",
       "      <td>False</td>\n",
       "    </tr>\n",
       "    <tr>\n",
       "      <th>1</th>\n",
       "      <td>0</td>\n",
       "      <td>0.0</td>\n",
       "      <td>0</td>\n",
       "      <td>0.0</td>\n",
       "      <td>2</td>\n",
       "      <td>64.000000</td>\n",
       "      <td>0.00</td>\n",
       "      <td>0.10</td>\n",
       "      <td>0.0</td>\n",
       "      <td>0.0</td>\n",
       "      <td>Feb</td>\n",
       "      <td>2</td>\n",
       "      <td>2</td>\n",
       "      <td>1</td>\n",
       "      <td>2</td>\n",
       "      <td>Returning_Visitor</td>\n",
       "      <td>False</td>\n",
       "      <td>False</td>\n",
       "    </tr>\n",
       "    <tr>\n",
       "      <th>2</th>\n",
       "      <td>0</td>\n",
       "      <td>0.0</td>\n",
       "      <td>0</td>\n",
       "      <td>0.0</td>\n",
       "      <td>1</td>\n",
       "      <td>0.000000</td>\n",
       "      <td>0.20</td>\n",
       "      <td>0.20</td>\n",
       "      <td>0.0</td>\n",
       "      <td>0.0</td>\n",
       "      <td>Feb</td>\n",
       "      <td>4</td>\n",
       "      <td>1</td>\n",
       "      <td>9</td>\n",
       "      <td>3</td>\n",
       "      <td>Returning_Visitor</td>\n",
       "      <td>False</td>\n",
       "      <td>False</td>\n",
       "    </tr>\n",
       "    <tr>\n",
       "      <th>3</th>\n",
       "      <td>0</td>\n",
       "      <td>0.0</td>\n",
       "      <td>0</td>\n",
       "      <td>0.0</td>\n",
       "      <td>2</td>\n",
       "      <td>2.666667</td>\n",
       "      <td>0.05</td>\n",
       "      <td>0.14</td>\n",
       "      <td>0.0</td>\n",
       "      <td>0.0</td>\n",
       "      <td>Feb</td>\n",
       "      <td>3</td>\n",
       "      <td>2</td>\n",
       "      <td>2</td>\n",
       "      <td>4</td>\n",
       "      <td>Returning_Visitor</td>\n",
       "      <td>False</td>\n",
       "      <td>False</td>\n",
       "    </tr>\n",
       "    <tr>\n",
       "      <th>4</th>\n",
       "      <td>0</td>\n",
       "      <td>0.0</td>\n",
       "      <td>0</td>\n",
       "      <td>0.0</td>\n",
       "      <td>10</td>\n",
       "      <td>627.500000</td>\n",
       "      <td>0.02</td>\n",
       "      <td>0.05</td>\n",
       "      <td>0.0</td>\n",
       "      <td>0.0</td>\n",
       "      <td>Feb</td>\n",
       "      <td>3</td>\n",
       "      <td>3</td>\n",
       "      <td>1</td>\n",
       "      <td>4</td>\n",
       "      <td>Returning_Visitor</td>\n",
       "      <td>True</td>\n",
       "      <td>False</td>\n",
       "    </tr>\n",
       "  </tbody>\n",
       "</table>\n",
       "</div>"
      ],
      "text/plain": [
       "   Administrative  Administrative_Duration  Informational  \\\n",
       "0               0                      0.0              0   \n",
       "1               0                      0.0              0   \n",
       "2               0                      0.0              0   \n",
       "3               0                      0.0              0   \n",
       "4               0                      0.0              0   \n",
       "\n",
       "   Informational_Duration  ProductRelated  ProductRelated_Duration  \\\n",
       "0                     0.0               1                 0.000000   \n",
       "1                     0.0               2                64.000000   \n",
       "2                     0.0               1                 0.000000   \n",
       "3                     0.0               2                 2.666667   \n",
       "4                     0.0              10               627.500000   \n",
       "\n",
       "   BounceRates  ExitRates  PageValues  SpecialDay Month  OperatingSystems  \\\n",
       "0         0.20       0.20         0.0         0.0   Feb                 1   \n",
       "1         0.00       0.10         0.0         0.0   Feb                 2   \n",
       "2         0.20       0.20         0.0         0.0   Feb                 4   \n",
       "3         0.05       0.14         0.0         0.0   Feb                 3   \n",
       "4         0.02       0.05         0.0         0.0   Feb                 3   \n",
       "\n",
       "   Browser  Region  TrafficType        VisitorType  Weekend  Revenue  \n",
       "0        1       1            1  Returning_Visitor    False    False  \n",
       "1        2       1            2  Returning_Visitor    False    False  \n",
       "2        1       9            3  Returning_Visitor    False    False  \n",
       "3        2       2            4  Returning_Visitor    False    False  \n",
       "4        3       1            4  Returning_Visitor     True    False  "
      ]
     },
     "execution_count": 2,
     "metadata": {},
     "output_type": "execute_result"
    }
   ],
   "source": [
    "df = pd.read_csv('online_shoppers_intention.csv')\n",
    "df.head()"
   ]
  },
  {
   "cell_type": "code",
   "execution_count": 3,
   "metadata": {},
   "outputs": [
    {
     "name": "stdout",
     "output_type": "stream",
     "text": [
      "<class 'pandas.core.frame.DataFrame'>\n",
      "RangeIndex: 12330 entries, 0 to 12329\n",
      "Data columns (total 18 columns):\n",
      " #   Column                   Non-Null Count  Dtype  \n",
      "---  ------                   --------------  -----  \n",
      " 0   Administrative           12330 non-null  int64  \n",
      " 1   Administrative_Duration  12330 non-null  float64\n",
      " 2   Informational            12330 non-null  int64  \n",
      " 3   Informational_Duration   12330 non-null  float64\n",
      " 4   ProductRelated           12330 non-null  int64  \n",
      " 5   ProductRelated_Duration  12330 non-null  float64\n",
      " 6   BounceRates              12330 non-null  float64\n",
      " 7   ExitRates                12330 non-null  float64\n",
      " 8   PageValues               12330 non-null  float64\n",
      " 9   SpecialDay               12330 non-null  float64\n",
      " 10  Month                    12330 non-null  object \n",
      " 11  OperatingSystems         12330 non-null  int64  \n",
      " 12  Browser                  12330 non-null  int64  \n",
      " 13  Region                   12330 non-null  int64  \n",
      " 14  TrafficType              12330 non-null  int64  \n",
      " 15  VisitorType              12330 non-null  object \n",
      " 16  Weekend                  12330 non-null  bool   \n",
      " 17  Revenue                  12330 non-null  bool   \n",
      "dtypes: bool(2), float64(7), int64(7), object(2)\n",
      "memory usage: 1.5+ MB\n"
     ]
    }
   ],
   "source": [
    "df.info()"
   ]
  },
  {
   "cell_type": "markdown",
   "metadata": {},
   "source": [
    "#### 先做類別對應到數值轉換"
   ]
  },
  {
   "cell_type": "code",
   "execution_count": 4,
   "metadata": {},
   "outputs": [
    {
     "data": {
      "text/html": [
       "<div>\n",
       "<style scoped>\n",
       "    .dataframe tbody tr th:only-of-type {\n",
       "        vertical-align: middle;\n",
       "    }\n",
       "\n",
       "    .dataframe tbody tr th {\n",
       "        vertical-align: top;\n",
       "    }\n",
       "\n",
       "    .dataframe thead th {\n",
       "        text-align: right;\n",
       "    }\n",
       "</style>\n",
       "<table border=\"1\" class=\"dataframe\">\n",
       "  <thead>\n",
       "    <tr style=\"text-align: right;\">\n",
       "      <th></th>\n",
       "      <th>Administrative</th>\n",
       "      <th>Administrative_Duration</th>\n",
       "      <th>Informational</th>\n",
       "      <th>Informational_Duration</th>\n",
       "      <th>ProductRelated</th>\n",
       "      <th>ProductRelated_Duration</th>\n",
       "      <th>BounceRates</th>\n",
       "      <th>ExitRates</th>\n",
       "      <th>PageValues</th>\n",
       "      <th>SpecialDay</th>\n",
       "      <th>Month</th>\n",
       "      <th>OperatingSystems</th>\n",
       "      <th>Browser</th>\n",
       "      <th>Region</th>\n",
       "      <th>TrafficType</th>\n",
       "      <th>VisitorType</th>\n",
       "      <th>Weekend</th>\n",
       "      <th>Revenue</th>\n",
       "    </tr>\n",
       "  </thead>\n",
       "  <tbody>\n",
       "    <tr>\n",
       "      <th>0</th>\n",
       "      <td>0</td>\n",
       "      <td>0.0</td>\n",
       "      <td>0</td>\n",
       "      <td>0.0</td>\n",
       "      <td>1</td>\n",
       "      <td>0.000000</td>\n",
       "      <td>0.20</td>\n",
       "      <td>0.20</td>\n",
       "      <td>0.0</td>\n",
       "      <td>0.0</td>\n",
       "      <td>2</td>\n",
       "      <td>1</td>\n",
       "      <td>1</td>\n",
       "      <td>1</td>\n",
       "      <td>1</td>\n",
       "      <td>0</td>\n",
       "      <td>0</td>\n",
       "      <td>0</td>\n",
       "    </tr>\n",
       "    <tr>\n",
       "      <th>1</th>\n",
       "      <td>0</td>\n",
       "      <td>0.0</td>\n",
       "      <td>0</td>\n",
       "      <td>0.0</td>\n",
       "      <td>2</td>\n",
       "      <td>64.000000</td>\n",
       "      <td>0.00</td>\n",
       "      <td>0.10</td>\n",
       "      <td>0.0</td>\n",
       "      <td>0.0</td>\n",
       "      <td>2</td>\n",
       "      <td>2</td>\n",
       "      <td>2</td>\n",
       "      <td>1</td>\n",
       "      <td>2</td>\n",
       "      <td>0</td>\n",
       "      <td>0</td>\n",
       "      <td>0</td>\n",
       "    </tr>\n",
       "    <tr>\n",
       "      <th>2</th>\n",
       "      <td>0</td>\n",
       "      <td>0.0</td>\n",
       "      <td>0</td>\n",
       "      <td>0.0</td>\n",
       "      <td>1</td>\n",
       "      <td>0.000000</td>\n",
       "      <td>0.20</td>\n",
       "      <td>0.20</td>\n",
       "      <td>0.0</td>\n",
       "      <td>0.0</td>\n",
       "      <td>2</td>\n",
       "      <td>4</td>\n",
       "      <td>1</td>\n",
       "      <td>9</td>\n",
       "      <td>3</td>\n",
       "      <td>0</td>\n",
       "      <td>0</td>\n",
       "      <td>0</td>\n",
       "    </tr>\n",
       "    <tr>\n",
       "      <th>3</th>\n",
       "      <td>0</td>\n",
       "      <td>0.0</td>\n",
       "      <td>0</td>\n",
       "      <td>0.0</td>\n",
       "      <td>2</td>\n",
       "      <td>2.666667</td>\n",
       "      <td>0.05</td>\n",
       "      <td>0.14</td>\n",
       "      <td>0.0</td>\n",
       "      <td>0.0</td>\n",
       "      <td>2</td>\n",
       "      <td>3</td>\n",
       "      <td>2</td>\n",
       "      <td>2</td>\n",
       "      <td>4</td>\n",
       "      <td>0</td>\n",
       "      <td>0</td>\n",
       "      <td>0</td>\n",
       "    </tr>\n",
       "    <tr>\n",
       "      <th>4</th>\n",
       "      <td>0</td>\n",
       "      <td>0.0</td>\n",
       "      <td>0</td>\n",
       "      <td>0.0</td>\n",
       "      <td>10</td>\n",
       "      <td>627.500000</td>\n",
       "      <td>0.02</td>\n",
       "      <td>0.05</td>\n",
       "      <td>0.0</td>\n",
       "      <td>0.0</td>\n",
       "      <td>2</td>\n",
       "      <td>3</td>\n",
       "      <td>3</td>\n",
       "      <td>1</td>\n",
       "      <td>4</td>\n",
       "      <td>0</td>\n",
       "      <td>1</td>\n",
       "      <td>0</td>\n",
       "    </tr>\n",
       "  </tbody>\n",
       "</table>\n",
       "</div>"
      ],
      "text/plain": [
       "   Administrative  Administrative_Duration  Informational  \\\n",
       "0               0                      0.0              0   \n",
       "1               0                      0.0              0   \n",
       "2               0                      0.0              0   \n",
       "3               0                      0.0              0   \n",
       "4               0                      0.0              0   \n",
       "\n",
       "   Informational_Duration  ProductRelated  ProductRelated_Duration  \\\n",
       "0                     0.0               1                 0.000000   \n",
       "1                     0.0               2                64.000000   \n",
       "2                     0.0               1                 0.000000   \n",
       "3                     0.0               2                 2.666667   \n",
       "4                     0.0              10               627.500000   \n",
       "\n",
       "   BounceRates  ExitRates  PageValues  SpecialDay  Month  OperatingSystems  \\\n",
       "0         0.20       0.20         0.0         0.0      2                 1   \n",
       "1         0.00       0.10         0.0         0.0      2                 2   \n",
       "2         0.20       0.20         0.0         0.0      2                 4   \n",
       "3         0.05       0.14         0.0         0.0      2                 3   \n",
       "4         0.02       0.05         0.0         0.0      2                 3   \n",
       "\n",
       "   Browser  Region  TrafficType  VisitorType  Weekend  Revenue  \n",
       "0        1       1            1            0        0        0  \n",
       "1        2       1            2            0        0        0  \n",
       "2        1       9            3            0        0        0  \n",
       "3        2       2            4            0        0        0  \n",
       "4        3       1            4            0        1        0  "
      ]
     },
     "execution_count": 4,
     "metadata": {},
     "output_type": "execute_result"
    }
   ],
   "source": [
    "Month_map = {'Jan':1, 'Feb':2, 'Mar':3, 'Apr':4, 'May':5, 'June':6, 'Jul':7, 'Aug':8, 'Sep':9, 'Oct':10, 'Nov':11, 'Dec':12}\n",
    "Visitor_map = {'Returning_Visitor':0,'New_Visitor':1,'Other':2}\n",
    "Weekend_map = {False:0,True:1}\n",
    "Revenue_map = {False:0,True:1}\n",
    "df['Month'] = df['Month'].map(Month_map)\n",
    "df['VisitorType'] = df['VisitorType'].map(Visitor_map)\n",
    "df['Weekend'] = df['Weekend'].map(Weekend_map)\n",
    "df['Revenue'] = df['Revenue'].map(Revenue_map)\n",
    "df.head()"
   ]
  },
  {
   "cell_type": "markdown",
   "metadata": {},
   "source": [
    "## 查看各個欄位與是否購買的關係"
   ]
  },
  {
   "cell_type": "markdown",
   "metadata": {},
   "source": [
    "### 這份資料正負樣本的比例\n",
    "* 算蠻不均衡的 沒買的就佔8成"
   ]
  },
  {
   "cell_type": "code",
   "execution_count": 5,
   "metadata": {},
   "outputs": [
    {
     "name": "stdout",
     "output_type": "stream",
     "text": [
      "有買的：0.15474452554744525\n",
      "沒有買的：0.8452554744525548\n"
     ]
    },
    {
     "data": {
      "image/png": "[encoded data removed]",
      "text/plain": [
       "<Figure size 432x288 with 1 Axes>"
      ]
     },
     "metadata": {
      "needs_background": "light"
     },
     "output_type": "display_data"
    }
   ],
   "source": [
    "base = df['Revenue'].mean()\n",
    "print('有買的：{}'.format(base))\n",
    "print('沒有買的：{}'.format(1-base))\n",
    "sns.countplot(x='Revenue',data=df)\n",
    "plt.show()"
   ]
  },
  {
   "cell_type": "markdown",
   "metadata": {},
   "source": [
    "### 月份與revenue\n",
    "* 十一十二月購買人比較多則有可能是因為1127黑色星期五造成的原因"
   ]
  },
  {
   "cell_type": "code",
   "execution_count": 6,
   "metadata": {},
   "outputs": [
    {
     "data": {
      "text/html": [
       "<div>\n",
       "<style scoped>\n",
       "    .dataframe tbody tr th:only-of-type {\n",
       "        vertical-align: middle;\n",
       "    }\n",
       "\n",
       "    .dataframe tbody tr th {\n",
       "        vertical-align: top;\n",
       "    }\n",
       "\n",
       "    .dataframe thead th {\n",
       "        text-align: right;\n",
       "    }\n",
       "</style>\n",
       "<table border=\"1\" class=\"dataframe\">\n",
       "  <thead>\n",
       "    <tr style=\"text-align: right;\">\n",
       "      <th></th>\n",
       "      <th>Revenue</th>\n",
       "    </tr>\n",
       "    <tr>\n",
       "      <th>Month</th>\n",
       "      <th></th>\n",
       "    </tr>\n",
       "  </thead>\n",
       "  <tbody>\n",
       "    <tr>\n",
       "      <th>2</th>\n",
       "      <td>0.016304</td>\n",
       "    </tr>\n",
       "    <tr>\n",
       "      <th>3</th>\n",
       "      <td>0.100682</td>\n",
       "    </tr>\n",
       "    <tr>\n",
       "      <th>5</th>\n",
       "      <td>0.108502</td>\n",
       "    </tr>\n",
       "    <tr>\n",
       "      <th>6</th>\n",
       "      <td>0.100694</td>\n",
       "    </tr>\n",
       "    <tr>\n",
       "      <th>7</th>\n",
       "      <td>0.152778</td>\n",
       "    </tr>\n",
       "    <tr>\n",
       "      <th>8</th>\n",
       "      <td>0.175520</td>\n",
       "    </tr>\n",
       "    <tr>\n",
       "      <th>9</th>\n",
       "      <td>0.191964</td>\n",
       "    </tr>\n",
       "    <tr>\n",
       "      <th>10</th>\n",
       "      <td>0.209472</td>\n",
       "    </tr>\n",
       "    <tr>\n",
       "      <th>11</th>\n",
       "      <td>0.253502</td>\n",
       "    </tr>\n",
       "    <tr>\n",
       "      <th>12</th>\n",
       "      <td>0.125072</td>\n",
       "    </tr>\n",
       "  </tbody>\n",
       "</table>\n",
       "</div>"
      ],
      "text/plain": [
       "        Revenue\n",
       "Month          \n",
       "2      0.016304\n",
       "3      0.100682\n",
       "5      0.108502\n",
       "6      0.100694\n",
       "7      0.152778\n",
       "8      0.175520\n",
       "9      0.191964\n",
       "10     0.209472\n",
       "11     0.253502\n",
       "12     0.125072"
      ]
     },
     "metadata": {},
     "output_type": "display_data"
    },
    {
     "data": {
      "image/png": "[encoded data removed]",
      "text/plain": [
       "<Figure size 432x288 with 1 Axes>"
      ]
     },
     "metadata": {
      "needs_background": "light"
     },
     "output_type": "display_data"
    }
   ],
   "source": [
    "class_group = df[['Month','Revenue']].groupby('Month')\n",
    "display(class_group.mean())\n",
    "sns.countplot(x='Month',hue='Revenue',data=df)\n",
    "plt.show()"
   ]
  },
  {
   "cell_type": "markdown",
   "metadata": {},
   "source": [
    "### 瀏覽器與Revenue"
   ]
  },
  {
   "cell_type": "code",
   "execution_count": 7,
   "metadata": {},
   "outputs": [
    {
     "data": {
      "text/html": [
       "<div>\n",
       "<style scoped>\n",
       "    .dataframe tbody tr th:only-of-type {\n",
       "        vertical-align: middle;\n",
       "    }\n",
       "\n",
       "    .dataframe tbody tr th {\n",
       "        vertical-align: top;\n",
       "    }\n",
       "\n",
       "    .dataframe thead th {\n",
       "        text-align: right;\n",
       "    }\n",
       "</style>\n",
       "<table border=\"1\" class=\"dataframe\">\n",
       "  <thead>\n",
       "    <tr style=\"text-align: right;\">\n",
       "      <th></th>\n",
       "      <th>Revenue</th>\n",
       "    </tr>\n",
       "    <tr>\n",
       "      <th>Browser</th>\n",
       "      <th></th>\n",
       "    </tr>\n",
       "  </thead>\n",
       "  <tbody>\n",
       "    <tr>\n",
       "      <th>1</th>\n",
       "      <td>0.148253</td>\n",
       "    </tr>\n",
       "    <tr>\n",
       "      <th>2</th>\n",
       "      <td>0.153624</td>\n",
       "    </tr>\n",
       "    <tr>\n",
       "      <th>3</th>\n",
       "      <td>0.047619</td>\n",
       "    </tr>\n",
       "    <tr>\n",
       "      <th>4</th>\n",
       "      <td>0.176630</td>\n",
       "    </tr>\n",
       "    <tr>\n",
       "      <th>5</th>\n",
       "      <td>0.184154</td>\n",
       "    </tr>\n",
       "    <tr>\n",
       "      <th>6</th>\n",
       "      <td>0.114943</td>\n",
       "    </tr>\n",
       "    <tr>\n",
       "      <th>7</th>\n",
       "      <td>0.122449</td>\n",
       "    </tr>\n",
       "    <tr>\n",
       "      <th>8</th>\n",
       "      <td>0.155556</td>\n",
       "    </tr>\n",
       "    <tr>\n",
       "      <th>9</th>\n",
       "      <td>0.000000</td>\n",
       "    </tr>\n",
       "    <tr>\n",
       "      <th>10</th>\n",
       "      <td>0.196319</td>\n",
       "    </tr>\n",
       "    <tr>\n",
       "      <th>11</th>\n",
       "      <td>0.166667</td>\n",
       "    </tr>\n",
       "    <tr>\n",
       "      <th>12</th>\n",
       "      <td>0.300000</td>\n",
       "    </tr>\n",
       "    <tr>\n",
       "      <th>13</th>\n",
       "      <td>0.262295</td>\n",
       "    </tr>\n",
       "  </tbody>\n",
       "</table>\n",
       "</div>"
      ],
      "text/plain": [
       "          Revenue\n",
       "Browser          \n",
       "1        0.148253\n",
       "2        0.153624\n",
       "3        0.047619\n",
       "4        0.176630\n",
       "5        0.184154\n",
       "6        0.114943\n",
       "7        0.122449\n",
       "8        0.155556\n",
       "9        0.000000\n",
       "10       0.196319\n",
       "11       0.166667\n",
       "12       0.300000\n",
       "13       0.262295"
      ]
     },
     "metadata": {},
     "output_type": "display_data"
    },
    {
     "data": {
      "image/png": "[encoded data removed]",
      "text/plain": [
       "<Figure size 432x288 with 1 Axes>"
      ]
     },
     "metadata": {
      "needs_background": "light"
     },
     "output_type": "display_data"
    }
   ],
   "source": [
    "class_group = df[['Browser','Revenue']].groupby('Browser')\n",
    "display(class_group.mean())\n",
    "sns.countplot(x='Browser',hue='Revenue',data=df)\n",
    "plt.show()"
   ]
  },
  {
   "cell_type": "markdown",
   "metadata": {},
   "source": [
    "### OS與Revenue\n",
    "* 感覺作業系統影響的比例好像不是很大，大部分或購買的都佔1-2成左右，若是購買數量比較多的大概也就是他的人口基數本來就比較多。"
   ]
  },
  {
   "cell_type": "code",
   "execution_count": 8,
   "metadata": {},
   "outputs": [
    {
     "data": {
      "text/html": [
       "<div>\n",
       "<style scoped>\n",
       "    .dataframe tbody tr th:only-of-type {\n",
       "        vertical-align: middle;\n",
       "    }\n",
       "\n",
       "    .dataframe tbody tr th {\n",
       "        vertical-align: top;\n",
       "    }\n",
       "\n",
       "    .dataframe thead th {\n",
       "        text-align: right;\n",
       "    }\n",
       "</style>\n",
       "<table border=\"1\" class=\"dataframe\">\n",
       "  <thead>\n",
       "    <tr style=\"text-align: right;\">\n",
       "      <th></th>\n",
       "      <th>Revenue</th>\n",
       "    </tr>\n",
       "    <tr>\n",
       "      <th>OperatingSystems</th>\n",
       "      <th></th>\n",
       "    </tr>\n",
       "  </thead>\n",
       "  <tbody>\n",
       "    <tr>\n",
       "      <th>1</th>\n",
       "      <td>0.146615</td>\n",
       "    </tr>\n",
       "    <tr>\n",
       "      <th>2</th>\n",
       "      <td>0.174973</td>\n",
       "    </tr>\n",
       "    <tr>\n",
       "      <th>3</th>\n",
       "      <td>0.104892</td>\n",
       "    </tr>\n",
       "    <tr>\n",
       "      <th>4</th>\n",
       "      <td>0.177824</td>\n",
       "    </tr>\n",
       "    <tr>\n",
       "      <th>5</th>\n",
       "      <td>0.166667</td>\n",
       "    </tr>\n",
       "    <tr>\n",
       "      <th>6</th>\n",
       "      <td>0.105263</td>\n",
       "    </tr>\n",
       "    <tr>\n",
       "      <th>7</th>\n",
       "      <td>0.142857</td>\n",
       "    </tr>\n",
       "    <tr>\n",
       "      <th>8</th>\n",
       "      <td>0.215190</td>\n",
       "    </tr>\n",
       "  </tbody>\n",
       "</table>\n",
       "</div>"
      ],
      "text/plain": [
       "                   Revenue\n",
       "OperatingSystems          \n",
       "1                 0.146615\n",
       "2                 0.174973\n",
       "3                 0.104892\n",
       "4                 0.177824\n",
       "5                 0.166667\n",
       "6                 0.105263\n",
       "7                 0.142857\n",
       "8                 0.215190"
      ]
     },
     "metadata": {},
     "output_type": "display_data"
    },
    {
     "data": {
      "image/png": "[encoded data removed]",
      "text/plain": [
       "<Figure size 432x288 with 1 Axes>"
      ]
     },
     "metadata": {
      "needs_background": "light"
     },
     "output_type": "display_data"
    }
   ],
   "source": [
    "class_group = df[['OperatingSystems','Revenue']].groupby('OperatingSystems')\n",
    "display(class_group.mean())\n",
    "sns.countplot(x='OperatingSystems',hue='Revenue',data=df)\n",
    "plt.show()"
   ]
  },
  {
   "cell_type": "markdown",
   "metadata": {},
   "source": [
    "## Weekend與Revenue\n",
    "* 假日的購買力較強 較非假日多出3%"
   ]
  },
  {
   "cell_type": "code",
   "execution_count": 9,
   "metadata": {},
   "outputs": [
    {
     "data": {
      "text/html": [
       "<div>\n",
       "<style scoped>\n",
       "    .dataframe tbody tr th:only-of-type {\n",
       "        vertical-align: middle;\n",
       "    }\n",
       "\n",
       "    .dataframe tbody tr th {\n",
       "        vertical-align: top;\n",
       "    }\n",
       "\n",
       "    .dataframe thead th {\n",
       "        text-align: right;\n",
       "    }\n",
       "</style>\n",
       "<table border=\"1\" class=\"dataframe\">\n",
       "  <thead>\n",
       "    <tr style=\"text-align: right;\">\n",
       "      <th></th>\n",
       "      <th>Revenue</th>\n",
       "    </tr>\n",
       "    <tr>\n",
       "      <th>Weekend</th>\n",
       "      <th></th>\n",
       "    </tr>\n",
       "  </thead>\n",
       "  <tbody>\n",
       "    <tr>\n",
       "      <th>0</th>\n",
       "      <td>0.148911</td>\n",
       "    </tr>\n",
       "    <tr>\n",
       "      <th>1</th>\n",
       "      <td>0.173989</td>\n",
       "    </tr>\n",
       "  </tbody>\n",
       "</table>\n",
       "</div>"
      ],
      "text/plain": [
       "          Revenue\n",
       "Weekend          \n",
       "0        0.148911\n",
       "1        0.173989"
      ]
     },
     "metadata": {},
     "output_type": "display_data"
    },
    {
     "data": {
      "image/png": "[encoded data removed]",
      "text/plain": [
       "<Figure size 432x288 with 1 Axes>"
      ]
     },
     "metadata": {
      "needs_background": "light"
     },
     "output_type": "display_data"
    }
   ],
   "source": [
    "class_group = df[['Weekend','Revenue']].groupby('Weekend')\n",
    "display(class_group.mean())\n",
    "sns.countplot(x='Weekend',hue='Revenue',data=df)\n",
    "plt.show()"
   ]
  },
  {
   "cell_type": "markdown",
   "metadata": {},
   "source": [
    "## 是不是特殊節日與revenue\n",
    "* 這邊有點特別，跟我原本預期的相反了"
   ]
  },
  {
   "cell_type": "code",
   "execution_count": 10,
   "metadata": {},
   "outputs": [
    {
     "name": "stdout",
     "output_type": "stream",
     "text": [
      "在特殊節日買的:0.06155075939248601\n",
      "不在特殊節日買的:0.16526762343171766\n"
     ]
    }
   ],
   "source": [
    "rate_special = df[(df['SpecialDay']>0) & (df['Revenue'] == True)].SpecialDay.count()/df[(df['SpecialDay']>0)].SpecialDay.count()\n",
    "rate_nspe = df[(df['SpecialDay']==0) & (df['Revenue'] == True)].SpecialDay.count()/df[(df['SpecialDay']==0)].SpecialDay.count()\n",
    "print('在特殊節日買的:{}'.format(rate_special))\n",
    "print('不在特殊節日買的:{}'.format(rate_nspe))"
   ]
  },
  {
   "cell_type": "markdown",
   "metadata": {},
   "source": [
    "## 地區與revenue"
   ]
  },
  {
   "cell_type": "code",
   "execution_count": 11,
   "metadata": {},
   "outputs": [
    {
     "data": {
      "text/html": [
       "<div>\n",
       "<style scoped>\n",
       "    .dataframe tbody tr th:only-of-type {\n",
       "        vertical-align: middle;\n",
       "    }\n",
       "\n",
       "    .dataframe tbody tr th {\n",
       "        vertical-align: top;\n",
       "    }\n",
       "\n",
       "    .dataframe thead th {\n",
       "        text-align: right;\n",
       "    }\n",
       "</style>\n",
       "<table border=\"1\" class=\"dataframe\">\n",
       "  <thead>\n",
       "    <tr style=\"text-align: right;\">\n",
       "      <th></th>\n",
       "      <th>Revenue</th>\n",
       "    </tr>\n",
       "    <tr>\n",
       "      <th>Region</th>\n",
       "      <th></th>\n",
       "    </tr>\n",
       "  </thead>\n",
       "  <tbody>\n",
       "    <tr>\n",
       "      <th>1</th>\n",
       "      <td>0.161297</td>\n",
       "    </tr>\n",
       "    <tr>\n",
       "      <th>2</th>\n",
       "      <td>0.165493</td>\n",
       "    </tr>\n",
       "    <tr>\n",
       "      <th>3</th>\n",
       "      <td>0.145235</td>\n",
       "    </tr>\n",
       "    <tr>\n",
       "      <th>4</th>\n",
       "      <td>0.148054</td>\n",
       "    </tr>\n",
       "    <tr>\n",
       "      <th>5</th>\n",
       "      <td>0.163522</td>\n",
       "    </tr>\n",
       "    <tr>\n",
       "      <th>6</th>\n",
       "      <td>0.139130</td>\n",
       "    </tr>\n",
       "    <tr>\n",
       "      <th>7</th>\n",
       "      <td>0.156373</td>\n",
       "    </tr>\n",
       "    <tr>\n",
       "      <th>8</th>\n",
       "      <td>0.129032</td>\n",
       "    </tr>\n",
       "    <tr>\n",
       "      <th>9</th>\n",
       "      <td>0.168297</td>\n",
       "    </tr>\n",
       "  </tbody>\n",
       "</table>\n",
       "</div>"
      ],
      "text/plain": [
       "         Revenue\n",
       "Region          \n",
       "1       0.161297\n",
       "2       0.165493\n",
       "3       0.145235\n",
       "4       0.148054\n",
       "5       0.163522\n",
       "6       0.139130\n",
       "7       0.156373\n",
       "8       0.129032\n",
       "9       0.168297"
      ]
     },
     "metadata": {},
     "output_type": "display_data"
    },
    {
     "data": {
      "image/png": "[encoded data removed]",
      "text/plain": [
       "<Figure size 432x288 with 1 Axes>"
      ]
     },
     "metadata": {
      "needs_background": "light"
     },
     "output_type": "display_data"
    }
   ],
   "source": [
    "class_group = df[['Region','Revenue']].groupby('Region')\n",
    "display(class_group.mean())\n",
    "sns.countplot(x='Region',hue='Revenue',data=df)\n",
    "plt.show()"
   ]
  },
  {
   "cell_type": "markdown",
   "metadata": {},
   "source": [
    "## 三種rate與revenue\n",
    "* BounceRates、ExitRates、PageValues"
   ]
  },
  {
   "cell_type": "markdown",
   "metadata": {},
   "source": [
    "#### BounceRates在超過0.25購買的機率就剩很低了"
   ]
  },
  {
   "cell_type": "code",
   "execution_count": 12,
   "metadata": {},
   "outputs": [
    {
     "data": {
      "image/png": "[encoded data removed]",
      "text/plain": [
       "<Figure size 864x432 with 1 Axes>"
      ]
     },
     "metadata": {},
     "output_type": "display_data"
    }
   ],
   "source": [
    "sns.set_style('whitegrid')\n",
    "g = sns.FacetGrid(df,hue=\"Revenue\",palette='coolwarm',height=6,aspect=2)\n",
    "g = g.map(plt.hist,'BounceRates',bins=20,alpha=0.7)"
   ]
  },
  {
   "cell_type": "markdown",
   "metadata": {},
   "source": [
    "#### ExitRate在過0.75之後會買的就很少了"
   ]
  },
  {
   "cell_type": "code",
   "execution_count": 13,
   "metadata": {},
   "outputs": [
    {
     "data": {
      "image/png": "[encoded data removed]",
      "text/plain": [
       "<Figure size 864x432 with 1 Axes>"
      ]
     },
     "metadata": {},
     "output_type": "display_data"
    }
   ],
   "source": [
    "sns.set_style('whitegrid')\n",
    "g = sns.FacetGrid(df,hue=\"Revenue\",palette='coolwarm',height=6,aspect=2)\n",
    "g = g.map(plt.hist,'ExitRates',bins=20,alpha=0.7)"
   ]
  },
  {
   "cell_type": "code",
   "execution_count": 14,
   "metadata": {},
   "outputs": [
    {
     "data": {
      "image/png": "[encoded data removed]",
      "text/plain": [
       "<Figure size 864x432 with 1 Axes>"
      ]
     },
     "metadata": {},
     "output_type": "display_data"
    }
   ],
   "source": [
    "sns.set_style('whitegrid')\n",
    "g = sns.FacetGrid(df,hue=\"Revenue\",palette='coolwarm',height=6,aspect=2)\n",
    "g = g.map(plt.hist,'PageValues',bins=20,alpha=0.7)"
   ]
  },
  {
   "cell_type": "markdown",
   "metadata": {},
   "source": [
    "## 製作相關係數的熱點圖\n",
    "* 可以看得出來page value有蠻大的相關性"
   ]
  },
  {
   "cell_type": "code",
   "execution_count": 15,
   "metadata": {},
   "outputs": [
    {
     "data": {
      "text/plain": [
       "<matplotlib.axes._subplots.AxesSubplot at 0x145f5f6a0>"
      ]
     },
     "execution_count": 15,
     "metadata": {},
     "output_type": "execute_result"
    },
    {
     "data": {
      "image/png": "[encoded data removed]",
      "text/plain": [
       "<Figure size 1080x1080 with 2 Axes>"
      ]
     },
     "metadata": {},
     "output_type": "display_data"
    }
   ],
   "source": [
    "df_corr = df.corr().round(3)\n",
    "plt.figure(figsize=(15,15))\n",
    "sns.heatmap(data=df_corr,annot=True,linewidths=0.3,cmap='OrRd')"
   ]
  },
  {
   "cell_type": "markdown",
   "metadata": {},
   "source": [
    "## 對資料進行前處理\n",
    "* 嘗試將類別型資料，或者TrueFalse的欄位，進行OHE（one-hot encoding）、或者將其對應到0、1或是數值\n",
    "\n"
   ]
  },
  {
   "cell_type": "markdown",
   "metadata": {},
   "source": [
    "### 轉OHE（跑一次而已）\n",
    "* 類別有關的資料有幾個可以轉的OHE的，Month、OperatingSystems、Region、Browser、TrafficType、VisitorType\n",
    "* 讓類別型資料不會受到以數值label時數字大小所造成的影響"
   ]
  },
  {
   "cell_type": "code",
   "execution_count": 16,
   "metadata": {},
   "outputs": [
    {
     "name": "stdout",
     "output_type": "stream",
     "text": [
      "<class 'pandas.core.frame.DataFrame'>\n",
      "RangeIndex: 12330 entries, 0 to 12329\n",
      "Data columns (total 29 columns):\n",
      " #   Column                   Non-Null Count  Dtype  \n",
      "---  ------                   --------------  -----  \n",
      " 0   Administrative           12330 non-null  int64  \n",
      " 1   Administrative_Duration  12330 non-null  float64\n",
      " 2   Informational            12330 non-null  int64  \n",
      " 3   Informational_Duration   12330 non-null  float64\n",
      " 4   ProductRelated           12330 non-null  int64  \n",
      " 5   ProductRelated_Duration  12330 non-null  float64\n",
      " 6   BounceRates              12330 non-null  float64\n",
      " 7   ExitRates                12330 non-null  float64\n",
      " 8   PageValues               12330 non-null  float64\n",
      " 9   SpecialDay               12330 non-null  float64\n",
      " 10  OperatingSystems         12330 non-null  int64  \n",
      " 11  Browser                  12330 non-null  int64  \n",
      " 12  Region                   12330 non-null  int64  \n",
      " 13  TrafficType              12330 non-null  int64  \n",
      " 14  Weekend                  12330 non-null  int64  \n",
      " 15  Revenue                  12330 non-null  int64  \n",
      " 16  Month_2                  12330 non-null  uint8  \n",
      " 17  Month_3                  12330 non-null  uint8  \n",
      " 18  Month_5                  12330 non-null  uint8  \n",
      " 19  Month_6                  12330 non-null  uint8  \n",
      " 20  Month_7                  12330 non-null  uint8  \n",
      " 21  Month_8                  12330 non-null  uint8  \n",
      " 22  Month_9                  12330 non-null  uint8  \n",
      " 23  Month_10                 12330 non-null  uint8  \n",
      " 24  Month_11                 12330 non-null  uint8  \n",
      " 25  Month_12                 12330 non-null  uint8  \n",
      " 26  VisitorType_0            12330 non-null  uint8  \n",
      " 27  VisitorType_1            12330 non-null  uint8  \n",
      " 28  VisitorType_2            12330 non-null  uint8  \n",
      "dtypes: float64(7), int64(9), uint8(13)\n",
      "memory usage: 1.7 MB\n"
     ]
    }
   ],
   "source": [
    "#select_col = ['Month','OperatingSystems','Region','Browser','TrafficType','VisitorType']\n",
    "select_col = ['Month','VisitorType']\n",
    "df=pd.get_dummies(df,columns=select_col)\n",
    "df.info()"
   ]
  },
  {
   "cell_type": "markdown",
   "metadata": {},
   "source": [
    "### 將數據標準化（跑一次就好了）\n",
    "* 有數值的欄位：Administrative、Administrative_Duration、Informational 、Informational_Duration、ProductRelated、ProductRelated_Duration、BounceRates、ExitRates、PageValues、SpecialDay"
   ]
  },
  {
   "cell_type": "code",
   "execution_count": 17,
   "metadata": {},
   "outputs": [],
   "source": [
    "#std_col = ['Administrative','Administrative_Duration','Informational','Informational_Duration',\n",
    "#           'ProductRelated','ProductRelated_Duration','BounceRates','ExitRates',\n",
    " #          'PageValues','SpecialDay']\n",
    "std_col = ['Administrative','Administrative_Duration','Informational','Informational_Duration',\n",
    "           'ProductRelated','ProductRelated_Duration','BounceRates','ExitRates',\n",
    "           'PageValues']\n",
    "scaler = StandardScaler()\n",
    "scaler.fit(df[std_col])\n",
    "df[std_col] = scaler.transform(df[std_col])"
   ]
  },
  {
   "cell_type": "markdown",
   "metadata": {},
   "source": [
    "## 切分資料集和測試集\n",
    "* 不過基本上資料已經不平衡了，所以只要猜1應該準確率就會很高\n",
    "* 選擇在熱點圖中與revenue較相關的幾個特徵\n",
    "    * 也有試過全部都當成特徵丟進去，雖然出來的準確率很接近，不過選幾個特徵出來後準確率有高1%左右"
   ]
  },
  {
   "cell_type": "code",
   "execution_count": 18,
   "metadata": {},
   "outputs": [
    {
     "data": {
      "image/png": "[encoded data removed]",
      "text/plain": [
       "<Figure size 432x288 with 1 Axes>"
      ]
     },
     "metadata": {},
     "output_type": "display_data"
    }
   ],
   "source": [
    "dfX = df.drop(columns=['Revenue','SpecialDay','OperatingSystems','Region','Browser','TrafficType','Weekend']).copy()\n",
    "dfY = df['Revenue'].copy()\n",
    "dfY.head()\n",
    "trainX, testX, trainY, testY = train_test_split(dfX, dfY, test_size=0.2,stratify=dfY, random_state=SEED)\n",
    "sns.countplot(testY)\n",
    "plt.title('Train')\n",
    "plt.show()\n"
   ]
  },
  {
   "cell_type": "markdown",
   "metadata": {},
   "source": [
    "## 對資料進行預測"
   ]
  },
  {
   "cell_type": "markdown",
   "metadata": {},
   "source": [
    "### 將資料集全部猜0的準確率\n",
    "* 基本上希望之後用模型預測出來的結果要大於這個"
   ]
  },
  {
   "cell_type": "code",
   "execution_count": 19,
   "metadata": {},
   "outputs": [
    {
     "name": "stdout",
     "output_type": "stream",
     "text": [
      "Accuracy:0.8450932684509327\n"
     ]
    }
   ],
   "source": [
    "allone = testY.sum()\n",
    "acc_allone = 1-(allone/len(testY))\n",
    "print('Accuracy:{}'.format(acc_allone))"
   ]
  },
  {
   "cell_type": "markdown",
   "metadata": {},
   "source": [
    "### 使用Logistic Regression\n",
    "* 想比全部都猜0還要好了一些，大約3-4%"
   ]
  },
  {
   "cell_type": "code",
   "execution_count": 20,
   "metadata": {},
   "outputs": [
    {
     "name": "stdout",
     "output_type": "stream",
     "text": [
      "Train Accuracy:0.8835158150851582\n",
      "Test Accuracy:0.889294403892944\n",
      "Confusion Matrix：\n",
      "[[2042   42]\n",
      " [ 231  151]]\n"
     ]
    }
   ],
   "source": [
    "modelLR = LogisticRegression(random_state=SEED,max_iter=3000)\n",
    "modelLR.fit(trainX,trainY)\n",
    "result_LR = modelLR.predict(testX)\n",
    "preLR_tra = modelLR.score(trainX,trainY)\n",
    "preLR_tes = modelLR.score(testX,testY)\n",
    "print('Train Accuracy:{}'.format(preLR_tra))\n",
    "print('Test Accuracy:{}'.format(preLR_tes))\n",
    "print('Confusion Matrix：')\n",
    "print(confusion_matrix(testY, result_LR))"
   ]
  },
  {
   "cell_type": "markdown",
   "metadata": {},
   "source": [
    "### 使用SVM\n",
    "* 使用SVM的結果其實也蠻優異的"
   ]
  },
  {
   "cell_type": "code",
   "execution_count": 21,
   "metadata": {},
   "outputs": [
    {
     "name": "stdout",
     "output_type": "stream",
     "text": [
      "Train Accuracy:0.9037915652879156\n",
      "Test Accuracy:0.902676399026764\n",
      "Confusion Matrix：\n",
      "[[2024   60]\n",
      " [ 180  202]]\n"
     ]
    }
   ],
   "source": [
    "modelSVM = SVC(random_state=SEED)\n",
    "modelSVM.fit(trainX,trainY)\n",
    "result_SVM = modelSVM.predict(testX)\n",
    "preSVM_tra = modelSVM.score(trainX,trainY)\n",
    "preSVM_tes = modelSVM.score(testX,testY)\n",
    "print('Train Accuracy:{}'.format(preSVM_tra))\n",
    "print('Test Accuracy:{}'.format(preSVM_tes))\n",
    "print('Confusion Matrix：')\n",
    "print(confusion_matrix(testY, result_SVM))"
   ]
  },
  {
   "cell_type": "markdown",
   "metadata": {},
   "source": [
    "### 嘗試使用Neural Network"
   ]
  },
  {
   "cell_type": "markdown",
   "metadata": {},
   "source": [
    "#### 將數據修改成可以丟進model的形式"
   ]
  },
  {
   "cell_type": "code",
   "execution_count": 22,
   "metadata": {},
   "outputs": [
    {
     "name": "stdout",
     "output_type": "stream",
     "text": [
      "Done\n"
     ]
    }
   ],
   "source": [
    "X = trainX[:].values\n",
    "Y = trainY[:].values\n",
    "X = X.reshape(-1,trainX.shape[1])\n",
    "Y = Y.reshape(-1,1)\n",
    "X = torch.from_numpy(X).type(torch.FloatTensor)\n",
    "Y = torch.from_numpy(Y).type(torch.FloatTensor)\n",
    "NtestX = testX[:].values\n",
    "NtestX = NtestX.reshape(-1,testX.shape[1])\n",
    "#NtestX = np.array(NtestX)\n",
    "NtestX = torch.from_numpy(NtestX).type(torch.FloatTensor)\n",
    "\n",
    "torch_dataset = TensorDataset(X,Y)\n",
    "\n",
    "loader = DataLoader(\n",
    "    dataset = torch_dataset,\n",
    "    batch_size = 8,\n",
    "    shuffle=True,\n",
    "    num_workers=2\n",
    ")\n",
    "print('Done')\n"
   ]
  },
  {
   "cell_type": "markdown",
   "metadata": {},
   "source": [
    "#### 建立模型"
   ]
  },
  {
   "cell_type": "code",
   "execution_count": 23,
   "metadata": {},
   "outputs": [
    {
     "name": "stdout",
     "output_type": "stream",
     "text": [
      "Done\n"
     ]
    }
   ],
   "source": [
    "IN = trainX.shape[1]\n",
    "class MyModel(nn.Module):\n",
    "        def __init__(self):\n",
    "            super(MyModel,self).__init__()\n",
    "            \n",
    "            self.L1 = nn.Linear(\n",
    "                in_features=IN,\n",
    "                out_features=100\n",
    "            )\n",
    "            self.L2 = nn.Linear(\n",
    "                in_features=100,\n",
    "                out_features=1\n",
    "            )\n",
    "        \n",
    "        def forward(self, batch_x):\n",
    "            y = self.L1(batch_x)\n",
    "            y = F.relu(y)\n",
    "            y = self.L2(y)\n",
    "            y = F.sigmoid(y)\n",
    "            return y\n",
    "        def predict(self,x):\n",
    "            pred = self.forward(x)\n",
    "            ans = []\n",
    "            for t in pred:\n",
    "                if t[0]>0.5:\n",
    "                    ans.append(1)\n",
    "                else:\n",
    "                    ans.append(0)\n",
    "\n",
    "            return torch.tensor(ans)\n",
    "\n",
    "print('Done')"
   ]
  },
  {
   "cell_type": "markdown",
   "metadata": {},
   "source": [
    "#### 訓練模型\n",
    "* 可以發現以batch size=8 跑30個epoch的時候，在前10個epoch對訓練集的準確率是有機會較高的，但是隨著越來越多次的訓練，由於在訓練樣本中負樣本就已經佔多數，導致對樣本的預判越來越傾向偏負，所以準確率越來越下降。"
   ]
  },
  {
   "cell_type": "code",
   "execution_count": 27,
   "metadata": {},
   "outputs": [
    {
     "name": "stderr",
     "output_type": "stream",
     "text": [
      "/Users/chu/anaconda3/envs/DA/lib/python3.6/site-packages/torch/nn/functional.py:1569: UserWarning: nn.functional.sigmoid is deprecated. Use torch.sigmoid instead.\n",
      "  warnings.warn(\"nn.functional.sigmoid is deprecated. Use torch.sigmoid instead.\")\n"
     ]
    },
    {
     "name": "stdout",
     "output_type": "stream",
     "text": [
      "Epoch: 3,Step:1232, Loss: 0.1541530340909958\n",
      "Train Accuracy: 0.8788523925385239\n",
      "Epoch: 6,Step:1232, Loss: 0.315529465675354\n",
      "Train Accuracy: 0.8611111111111112\n",
      "Epoch: 9,Step:1232, Loss: 0.3149121105670929\n",
      "Train Accuracy: 0.8499594484995945\n",
      "Epoch: 12,Step:1232, Loss: 0.40346795320510864\n",
      "Train Accuracy: 0.8666869424168694\n",
      "Epoch: 15,Step:1232, Loss: 0.37381085753440857\n",
      "Train Accuracy: 0.8453974047039741\n",
      "Epoch: 18,Step:1232, Loss: 0.02994585409760475\n",
      "Train Accuracy: 0.8454987834549879\n",
      "Epoch: 21,Step:1232, Loss: 0.5895161032676697\n",
      "Train Accuracy: 0.8450932684509327\n",
      "Epoch: 24,Step:1232, Loss: 0.28663545846939087\n",
      "Train Accuracy: 0.6442619626926196\n",
      "Epoch: 27,Step:1232, Loss: 0.03591332957148552\n",
      "Train Accuracy: 0.8461070559610706\n",
      "Epoch: 30,Step:1232, Loss: 12.938874244689941\n",
      "Train Accuracy: 0.8457015409570154\n"
     ]
    },
    {
     "data": {
      "image/png": "[encoded data removed]",
      "text/plain": [
       "<Figure size 432x288 with 1 Axes>"
      ]
     },
     "metadata": {},
     "output_type": "display_data"
    }
   ],
   "source": [
    "model = MyModel()\n",
    "optimizer = SGD(model.parameters(),lr=0.001)\n",
    "criterion = nn.BCELoss()\n",
    "\n",
    "epochs = 30\n",
    "losses = []\n",
    "acc=[]\n",
    "for i in range(epochs):\n",
    "    for step,(batch_x,batch_y) in enumerate(loader):\n",
    "        y_pred = model(batch_x)  \n",
    "        loss = criterion(y_pred,batch_y)\n",
    "        losses.append(loss.item())\n",
    "        loss.backward()\n",
    "        optimizer.step()\n",
    "    \n",
    "    predict = model.predict(X)\n",
    "    predict_train = predict.numpy()\n",
    "    train_acc = accuracy_score(trainY,predict_train)\n",
    "    acc.append(train_acc)\n",
    "    if (i + 1) % 3== 0:\n",
    "        print('Epoch: {},Step:{}, Loss: {}'.format(i + 1,step, loss))\n",
    "        print('Train Accuracy: {}'.format(train_acc))\n",
    "\n",
    "t= np.arange(0, epochs, 1)\n",
    "plt.plot(t,acc)\n",
    "plt.xticks(t)\n",
    "plt.show()        "
   ]
  },
  {
   "cell_type": "markdown",
   "metadata": {},
   "source": [
    "#### 保存訓練好的模型"
   ]
  },
  {
   "cell_type": "code",
   "execution_count": 30,
   "metadata": {},
   "outputs": [],
   "source": [
    "#torch.save(model.state_dict(), 'normal_model_plus.ckpt')"
   ]
  },
  {
   "cell_type": "markdown",
   "metadata": {},
   "source": [
    "#### 測試訓練好的模型\n",
    "* 準確率只有接近0.85，沒有比原本的基準還要更好。"
   ]
  },
  {
   "cell_type": "code",
   "execution_count": 31,
   "metadata": {},
   "outputs": [
    {
     "name": "stdout",
     "output_type": "stream",
     "text": [
      "Test Accuracy: 0.8467153284671532\n",
      "Confusion Matrix：\n",
      "[[2083    1]\n",
      " [ 377    5]]\n"
     ]
    }
   ],
   "source": [
    "model_predict = MyModel()\n",
    "model_predict.load_state_dict(torch.load('./normal_model_plus.ckpt'))\n",
    "predict = model_predict.predict(NtestX)\n",
    "predict = predict.numpy()\n",
    "test_acc = accuracy_score(testY,predict)\n",
    "print('Test Accuracy: {}'.format(test_acc))\n",
    "print('Confusion Matrix：')\n",
    "print(confusion_matrix(testY, predict))#混淆矩陣"
   ]
  },
  {
   "cell_type": "markdown",
   "metadata": {},
   "source": [
    "## **對準確率的改進**"
   ]
  },
  {
   "cell_type": "markdown",
   "metadata": {},
   "source": [
    "### Neural Network的改善"
   ]
  },
  {
   "cell_type": "markdown",
   "metadata": {},
   "source": [
    "#### 已知問題\n",
    "* 不進行優化的時候準確率大概只比全猜0還要好一點。\n",
    "* 當選擇的epoch太高的時候，一直訓練的結果有可能因為負樣本比例不均，使模型一直往負那邊靠近。\n",
    "    * 同時也要跟著batch size 改變epoch\n",
    "* 也有可能模型網路建構的太簡單， 沒辦法對資料有更好的適配。\n",
    "    * 把hidden layer 設的複雜一點\n",
    "* 一開始batch size設的不高，導致預測無法收斂，一直往局部最佳解靠近，無法跳脫到全域最佳解。\n",
    "    * 將batch size調得高一點\n"
   ]
  },
  {
   "cell_type": "markdown",
   "metadata": {},
   "source": [
    "#### 重新建立dataset\n",
    "* 將batch size調高\n",
    "* 將epoch降低"
   ]
  },
  {
   "cell_type": "code",
   "execution_count": 32,
   "metadata": {},
   "outputs": [
    {
     "name": "stdout",
     "output_type": "stream",
     "text": [
      "Done\n"
     ]
    }
   ],
   "source": [
    "loader = DataLoader(\n",
    "    dataset = torch_dataset,\n",
    "    batch_size = 256,\n",
    "    shuffle=True,\n",
    "    num_workers=10\n",
    ")\n",
    "\n",
    "print('Done')"
   ]
  },
  {
   "cell_type": "markdown",
   "metadata": {},
   "source": [
    "#### 重新建構模型"
   ]
  },
  {
   "cell_type": "code",
   "execution_count": 33,
   "metadata": {},
   "outputs": [
    {
     "name": "stdout",
     "output_type": "stream",
     "text": [
      "Done\n"
     ]
    }
   ],
   "source": [
    "IN = trainX.shape[1]\n",
    "class NewModel(nn.Module):\n",
    "        def __init__(self):\n",
    "            super(NewModel,self).__init__()\n",
    "            \n",
    "            self.L1 = nn.Linear(\n",
    "                in_features=IN,\n",
    "                out_features=50\n",
    "            )\n",
    "            self.L2 = nn.Linear(\n",
    "                in_features = 50,\n",
    "                out_features = 70\n",
    "            )\n",
    "            self.L3 = nn.Linear(\n",
    "                in_features = 70,\n",
    "                out_features = 20\n",
    "            )\n",
    "            self.L4= nn.Linear(\n",
    "                in_features=20,\n",
    "                out_features=1\n",
    "            )\n",
    "        \n",
    "        def forward(self, batch_x):\n",
    "            y = self.L1(batch_x)\n",
    "            y = F.relu(y)\n",
    "            y = self.L2(y)\n",
    "            y = F.relu(y)\n",
    "            y = self.L3(y)\n",
    "            y = F.relu(y)\n",
    "            y = self.L4(y)\n",
    "            y = F.sigmoid(y)\n",
    "            return y\n",
    "        def predict(self,x):\n",
    "            pred = self.forward(x)\n",
    "            ans = []\n",
    "            for t in pred:\n",
    "                if t[0]>0.5:\n",
    "                    ans.append(1)\n",
    "                else:\n",
    "                    ans.append(0)\n",
    "\n",
    "            return torch.tensor(ans)\n",
    "\n",
    "print('Done')"
   ]
  },
  {
   "cell_type": "markdown",
   "metadata": {},
   "source": [
    "#### 訓練模型"
   ]
  },
  {
   "cell_type": "code",
   "execution_count": 34,
   "metadata": {},
   "outputs": [
    {
     "name": "stdout",
     "output_type": "stream",
     "text": [
      "Epoch: 5,Step:38, Loss: 0.5084869861602783\n",
      "Train Accuracy: 0.8452960259529603\n",
      "Epoch: 10,Step:38, Loss: 0.49476444721221924\n",
      "Train Accuracy: 0.8452960259529603\n",
      "Epoch: 15,Step:38, Loss: 0.31501808762550354\n",
      "Train Accuracy: 0.845904298459043\n",
      "Epoch: 20,Step:38, Loss: 0.33968856930732727\n",
      "Train Accuracy: 0.8932481751824818\n",
      "Epoch: 25,Step:38, Loss: 0.26473718881607056\n",
      "Train Accuracy: 0.8452960259529603\n",
      "Epoch: 30,Step:38, Loss: 0.3543134331703186\n",
      "Train Accuracy: 0.8761151662611517\n",
      "Epoch: 35,Step:38, Loss: 0.266979455947876\n",
      "Train Accuracy: 0.8899026763990268\n",
      "Epoch: 40,Step:38, Loss: 0.19095288217067719\n",
      "Train Accuracy: 0.879764801297648\n",
      "Epoch: 45,Step:38, Loss: 0.19777150452136993\n",
      "Train Accuracy: 0.8960867802108679\n",
      "Epoch: 50,Step:38, Loss: 0.21275365352630615\n",
      "Train Accuracy: 0.8930454176804542\n",
      "Epoch: 55,Step:38, Loss: 0.20875264704227448\n",
      "Train Accuracy: 0.8950729927007299\n",
      "Epoch: 60,Step:38, Loss: 0.27904170751571655\n",
      "Train Accuracy: 0.8948702351987023\n",
      "Epoch: 65,Step:38, Loss: 0.2403697669506073\n",
      "Train Accuracy: 0.8950729927007299\n",
      "Epoch: 70,Step:38, Loss: 0.22617435455322266\n",
      "Train Accuracy: 0.8957826439578265\n",
      "Epoch: 75,Step:38, Loss: 0.2893986701965332\n",
      "Train Accuracy: 0.8978102189781022\n",
      "Epoch: 80,Step:38, Loss: 0.27720722556114197\n",
      "Train Accuracy: 0.8980129764801298\n",
      "Epoch: 85,Step:38, Loss: 0.21259257197380066\n",
      "Train Accuracy: 0.89882400648824\n",
      "Epoch: 90,Step:38, Loss: 0.20816639065742493\n",
      "Train Accuracy: 0.8983171127331712\n"
     ]
    },
    {
     "data": {
      "image/png": "[encoded data removed]",
      "text/plain": [
       "<Figure size 432x288 with 1 Axes>"
      ]
     },
     "metadata": {},
     "output_type": "display_data"
    }
   ],
   "source": [
    "model = NewModel()\n",
    "optimizer = SGD(model.parameters(),lr=0.001)\n",
    "W= torch.tensor(0.9)#給予權重\n",
    "criterion = nn.BCELoss(weight=W)\n",
    "\n",
    "losses = []\n",
    "\n",
    "epochs = 90\n",
    "acc=[]\n",
    "for i in range(epochs):\n",
    "    for step,(batch_x,batch_y) in enumerate(loader):\n",
    "        y_pred = model(batch_x)  \n",
    "        loss = criterion(y_pred,batch_y)\n",
    "        losses.append(loss.item())\n",
    "        loss.backward()\n",
    "        optimizer.step()\n",
    "        \n",
    "    predict = model.predict(X)\n",
    "    predict_train = predict.numpy()\n",
    "    train_acc = accuracy_score(trainY,predict_train)\n",
    "    acc.append(train_acc)\n",
    "    if (i + 1) % 5== 0:\n",
    "        print('Epoch: {},Step:{}, Loss: {}'.format(i + 1,step, loss))\n",
    "        print('Train Accuracy: {}'.format(train_acc))\n",
    "        \n",
    "t= np.arange(0, epochs, 1)\n",
    "plt.plot(t,acc)\n",
    "plt.xticks(t)\n",
    "plt.show()"
   ]
  },
  {
   "cell_type": "markdown",
   "metadata": {},
   "source": [
    "#### 保存模型"
   ]
  },
  {
   "cell_type": "code",
   "execution_count": 35,
   "metadata": {},
   "outputs": [],
   "source": [
    "#torch.save(model.state_dict(), 'new_model_E90_W9.ckpt')"
   ]
  },
  {
   "cell_type": "markdown",
   "metadata": {},
   "source": [
    "#### 測試訓練過後的模型"
   ]
  },
  {
   "cell_type": "code",
   "execution_count": 36,
   "metadata": {},
   "outputs": [
    {
     "name": "stdout",
     "output_type": "stream",
     "text": [
      "Test Accuracy: 0.9038929440389294\n",
      "Confusion Matrix：\n",
      "[[1985   99]\n",
      " [ 138  244]]\n"
     ]
    },
    {
     "name": "stderr",
     "output_type": "stream",
     "text": [
      "/Users/chu/anaconda3/envs/DA/lib/python3.6/site-packages/torch/nn/functional.py:1569: UserWarning: nn.functional.sigmoid is deprecated. Use torch.sigmoid instead.\n",
      "  warnings.warn(\"nn.functional.sigmoid is deprecated. Use torch.sigmoid instead.\")\n"
     ]
    }
   ],
   "source": [
    "Nmodel_predict = NewModel()\n",
    "Nmodel_predict.load_state_dict(torch.load('./new_model_E90_W9.ckpt'))\n",
    "Npredict = Nmodel_predict.predict(NtestX)\n",
    "Npredict = Npredict.numpy()\n",
    "Ntest_acc = accuracy_score(testY,Npredict)\n",
    "print('Test Accuracy: {}'.format(Ntest_acc))\n",
    "print('Confusion Matrix：')\n",
    "print(confusion_matrix(testY, Npredict))#混淆矩陣"
   ]
  },
  {
   "cell_type": "markdown",
   "metadata": {},
   "source": [
    "#### 結果\n",
    "* 對於上述所講的問題進行一些調教之後，可以發現結果的確是有變好的。\n",
    "* 由於將模型中架構變複雜，而且batchsize有拉高，原本只跑50個不到的epoch，但從圖片上可以發現訓練時的準確度即使在50上下還是有繼續往上的趨勢，最後將epoch直接調到100，發現90個epoch左右趨勢就開始減緩，大概落在九成，甚至有往下的趨勢，因此選擇停在90。\n",
    "* 將對預測成正樣本的權重抓在0.9\n",
    "* 模型的架構為特徵數->50->70->20->1\n",
    "* 最後對訓練集的準確率在9成，未調教前在8.4成左右\n",
    "* 對測試集的準確率也在9成，未調教之前在8.4-8.5成"
   ]
  },
  {
   "cell_type": "markdown",
   "metadata": {},
   "source": [
    "### 選擇直接嘗試其他模型\n",
    "* 選擇使用random forest來分類\n",
    "* 結果意外的非常好，只使用預設值就有高達九成的準確率"
   ]
  },
  {
   "cell_type": "code",
   "execution_count": 37,
   "metadata": {},
   "outputs": [
    {
     "name": "stdout",
     "output_type": "stream",
     "text": [
      "Train Accuracy:0.9996958637469586\n",
      "Test Accuracy:0.9055150040551501\n"
     ]
    }
   ],
   "source": [
    "modelRF = RandomForestClassifier(random_state=SEED)\n",
    "modelRF.fit(trainX,trainY)\n",
    "preRF_tra = modelRF.score(trainX,trainY)\n",
    "preRF_tes = modelRF.score(testX,testY)\n",
    "print('Train Accuracy:{}'.format(preRF_tra))\n",
    "print('Test Accuracy:{}'.format(preRF_tes))"
   ]
  },
  {
   "cell_type": "markdown",
   "metadata": {},
   "source": [
    "### SVM的改善\n",
    "* 原本是使用預設的懲罰值，C=1\n",
    "* 若是懲罰值越大，則對樣本的容忍度會降低，也就是比較有過擬合的問題,但比較能泛化，可是太低也會對任何樣本都不敏感\n",
    "* 若是將懲罰值變低，則對樣本的容忍度就會提升，但是對訓練的數據準確率就會降低\n",
    "* 使用預設時的SVM：\n",
    "    * Train Accuracy:0.9037915652879156\n",
    "    * Test Accuracy:0.902676399026764"
   ]
  },
  {
   "cell_type": "code",
   "execution_count": 38,
   "metadata": {},
   "outputs": [
    {
     "name": "stdout",
     "output_type": "stream",
     "text": [
      "C=0.5\n",
      "Train Accuracy:0.8964922952149229\tTest Accuracy:0.9022708840227088\n",
      "C=1.0\n",
      "Train Accuracy:0.9037915652879156\tTest Accuracy:0.902676399026764\n",
      "C=1.5\n",
      "Train Accuracy:0.9076439578264396\tTest Accuracy:0.902676399026764\n",
      "C=2.0\n",
      "Train Accuracy:0.9109894566098946\tTest Accuracy:0.9018653690186537\n",
      "C=2.5\n",
      "Train Accuracy:0.9123073803730738\tTest Accuracy:0.9014598540145985\n",
      "C=3.0\n",
      "Train Accuracy:0.9132197891321979\tTest Accuracy:0.9014598540145985\n",
      "C=3.5\n",
      "Train Accuracy:0.9147404703974047\tTest Accuracy:0.9030819140308192\n",
      "C=4.0\n",
      "Train Accuracy:0.9161597729115978\tTest Accuracy:0.9034874290348743\n",
      "C=4.5\n",
      "Train Accuracy:0.9177818329278183\tTest Accuracy:0.9034874290348743\n",
      "C=5.0\n",
      "Train Accuracy:0.9185928629359287\tTest Accuracy:0.902676399026764\n",
      "C=5.5\n",
      "Train Accuracy:0.9193025141930251\tTest Accuracy:0.9018653690186537\n",
      "C=6.0\n",
      "Train Accuracy:0.9201135442011354\tTest Accuracy:0.9018653690186537\n",
      "C=6.5\n",
      "Train Accuracy:0.9207218167072182\tTest Accuracy:0.9018653690186537\n",
      "C=7.0\n",
      "Train Accuracy:0.9214314679643146\tTest Accuracy:0.9010543390105434\n",
      "C=7.5\n",
      "Train Accuracy:0.9221411192214112\tTest Accuracy:0.9006488240064883\n",
      "C=8.0\n",
      "Train Accuracy:0.9225466342254663\tTest Accuracy:0.9010543390105434\n",
      "C=8.5\n",
      "Train Accuracy:0.9227493917274939\tTest Accuracy:0.9018653690186537\n",
      "C=9.0\n",
      "Train Accuracy:0.9227493917274939\tTest Accuracy:0.9018653690186537\n",
      "C=9.5\n",
      "Train Accuracy:0.9232562854825629\tTest Accuracy:0.9018653690186537\n"
     ]
    }
   ],
   "source": [
    "for c in range(0,100,5):\n",
    "    if c == 0:\n",
    "        continue\n",
    "    print('C={}'.format(c/10))\n",
    "    NmodelSVM = SVC(random_state=SEED,C=c/10)\n",
    "    NmodelSVM.fit(trainX,trainY)\n",
    "    Nresult_SVM = NmodelSVM.predict(testX)\n",
    "    NpreSVM_tra = NmodelSVM.score(trainX,trainY)\n",
    "    NpreSVM_tes = NmodelSVM.score(testX,testY)\n",
    "    print('Train Accuracy:{}\\tTest Accuracy:{}'.format(NpreSVM_tra,NpreSVM_tes))\n",
    "    #print('Test Accuracy:{}'.format(NpreSVM_tes))\n",
    "    #print('Confusion Matrix：')\n",
    "    #print(confusion_matrix(testY, Nresult_SVM))"
   ]
  },
  {
   "cell_type": "markdown",
   "metadata": {},
   "source": [
    "#### 結果\n",
    "* 通過不同的懲罰值，我們大致上可以找到較優秀的懲罰值落在4-5之間，因此C=4的時候是比較好的選擇。\n",
    "* 持續的增加懲罰值，我們也的確可以發現，對於訓練集的準確率的確逐步增高，但相同的，開始出現overfitting的問題，對於測試集的結果並沒有變好，甚至有下降的現象。\n",
    "* 但有個問題是理論上測試集是不會有答案的，所以有參考測試集的數據來tune參數其實是比較作弊的行為。"
   ]
  },
  {
   "cell_type": "markdown",
   "metadata": {},
   "source": [
    "### Logistic Regression的改進\n",
    "* 使用預設的時候\n",
    "    * Train Accuracy:0.8835158150851582\n",
    "    * Test Accuracy:0.889294403892944\n",
    "* 考慮到資料集的不均衡，則調整不同的權重試圖找到更好的結果，將01兩種類別以步伐為0.1，總和為1，來挑出對訓練集有較高準確率的參數適用在測試集上"
   ]
  },
  {
   "cell_type": "code",
   "execution_count": 39,
   "metadata": {},
   "outputs": [
    {
     "name": "stdout",
     "output_type": "stream",
     "text": [
      "0->weight = 0.1,1->weight = 0.9\n",
      "Train Accuracy:0.7750405515004055\n",
      "0->weight = 0.2,1->weight = 0.8\n",
      "Train Accuracy:0.875506893755069\n",
      "0->weight = 0.3,1->weight = 0.7\n",
      "Train Accuracy:0.8928426601784266\n",
      "0->weight = 0.4,1->weight = 0.6\n",
      "Train Accuracy:0.8882806163828062\n",
      "0->weight = 0.5,1->weight = 0.5\n",
      "Train Accuracy:0.8835158150851582\n",
      "0->weight = 0.6,1->weight = 0.4\n",
      "Train Accuracy:0.8781427412814274\n",
      "0->weight = 0.7,1->weight = 0.3\n",
      "Train Accuracy:0.8715531224655312\n",
      "0->weight = 0.8,1->weight = 0.2\n",
      "Train Accuracy:0.8626317923763179\n",
      "0->weight = 0.9,1->weight = 0.1\n",
      "Train Accuracy:0.8524939172749392\n",
      "0->weight = 1.0,1->weight = 0.0\n",
      "Train Accuracy:0.8452960259529603\n"
     ]
    }
   ],
   "source": [
    "for w in range (1,11):\n",
    "    print('0->weight = {},1->weight = {}'.format(w/10,(10-w)/10))\n",
    "    NmodelLR = LogisticRegression(random_state=SEED,max_iter=3000,class_weight={0:w/10,1:1-(w/10)})\n",
    "    NmodelLR.fit(trainX,trainY)\n",
    "    Nresult_LR = NmodelLR.predict(testX)\n",
    "    NpreLR_tra = NmodelLR.score(trainX,trainY)\n",
    "    NpreLR_tes = NmodelLR.score(testX,testY)\n",
    "    print('Train Accuracy:{}'.format(NpreLR_tra))\n"
   ]
  },
  {
   "cell_type": "code",
   "execution_count": 40,
   "metadata": {},
   "outputs": [
    {
     "name": "stdout",
     "output_type": "stream",
     "text": [
      "0->weight = 0.3,1->weight = 0.7\n",
      "Train Accuracy:0.8928426601784266\n",
      "Test Accuracy:0.8965936739659367\n",
      "Confusion Matrix：\n",
      "[[1989   95]\n",
      " [ 160  222]]\n"
     ]
    }
   ],
   "source": [
    "print('0->weight = 0.3,1->weight = 0.7')\n",
    "NmodelLR = LogisticRegression(random_state=SEED,max_iter=3000,class_weight={0:0.3,1:0.7})\n",
    "NmodelLR.fit(trainX,trainY)\n",
    "Nresult_LR = NmodelLR.predict(testX)\n",
    "NpreLR_tra = NmodelLR.score(trainX,trainY)\n",
    "NpreLR_tes = NmodelLR.score(testX,testY)\n",
    "print('Train Accuracy:{}'.format(NpreLR_tra))\n",
    "print('Test Accuracy:{}'.format(NpreLR_tes))\n",
    "print('Confusion Matrix：')\n",
    "print(confusion_matrix(testY, Nresult_LR))"
   ]
  },
  {
   "cell_type": "markdown",
   "metadata": {},
   "source": [
    "#### 結果\n",
    "* 通過調整不同權重，發現在負樣本權重0.3、正樣本權重0.7時對訓練集有最高的準確率。\n",
    "* 將這個參數套用在測試集上，的確比原本有更好的結果，用預設參數時兩者都只有88%的準確率，調整權重後：\n",
    "    * 訓練準確率來到89.2%\n",
    "    * 測試準確率來到89.6%\n",
    "* 的確是有趣的較好的結果"
   ]
  },
  {
   "cell_type": "markdown",
   "metadata": {},
   "source": [
    "## 總結\n",
    "* 這份資料在做預測的時候由於本來負樣本就偏高，所以大部分的模型猜負的時候就會有不錯的準確率\n",
    "* 通過使用不同的分類器，包含類神經網路，發現類神經網路並不一定有比較優勢，當然也許與內部設計有關，不過用其他分類氣的時候在這份資料可以取得比較好的結果。\n",
    "* 基本上把這份資料的全部欄位都當作特徵就可以有很高的結果，不過經過一開始對資料的前處理，以及觀察不同欄位對於revenue的關係後，把特徵數量減少，選取看起來比較相關的幾個欄位，是可以提高準確率的。\n",
    "* 這份有資料不平衡的問題，覺得應該可以對這個議題多一點著手的地方，除了類別權重以外。"
   ]
  },
  {
   "cell_type": "code",
   "execution_count": null,
   "metadata": {},
   "outputs": [],
   "source": []
  }
 ],
 "metadata": {
  "kernelspec": {
   "display_name": "Python 3",
   "language": "python",
   "name": "python3"
  },
  "language_info": {
   "codemirror_mode": {
    "name": "ipython",
    "version": 3
   },
   "file_extension": ".py",
   "mimetype": "text/x-python",
   "name": "python",
   "nbconvert_exporter": "python",
   "pygments_lexer": "ipython3",
   "version": "3.6.9"
  }
 },
 "nbformat": 4,
 "nbformat_minor": 4
}
